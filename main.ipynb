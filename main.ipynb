{
 "cells": [
  {
   "cell_type": "code",
   "execution_count": 16,
   "metadata": {},
   "outputs": [],
   "source": []
  },
  {
   "cell_type": "code",
   "execution_count": 15,
   "metadata": {},
   "outputs": [
    {
     "data": {
      "text/plain": [
       "{'1 | 0:00:00 --> 0:00:03': 'ਕੀ ਦੁਕਾਨ ਦੀ ਵਿਕਰੀ ਘੱਟ ਗਈ ਹੈ?',\n",
       " '2 | 0:00:03 --> 0:00:05': 'ਨਵੇਂ ਗਾਹਕ ਵੀ ਨਹੀਂ ਆ ਰਹੇ?',\n",
       " '3 | 0:00:05 --> 0:00:06': 'ਇਸ ਲਈ ਹੁਣ ਚਿੰਤਾ ਖਤਮ ਹੋ ਗਈ ਹੈ।',\n",
       " '4 | 0:00:06 --> 0:00:08': 'ਕਿਉਂਕਿ ਬੁਧਿਮਨੀ ਮੌਜੂਦ ਹੈ।',\n",
       " '5 | 0:00:08 --> 0:00:10': 'ਵਪਾਰ ਵਿੱਦਿਆ ਦੇ ਪੰਜ ਮੰਤਰਾਂ ਨਾਲ।',\n",
       " '6 | 0:00:10 --> 0:00:12': 'ਤਾਂ ਸੁਣੋ ਸੁੱਖੀ।',\n",
       " '7 | 0:00:12 --> 0:00:14': 'ਆਪਣੀ ਦੁਕਾਨ ਨੂੰ ਸਾਫ਼ ਅਤੇ ਸੰਗਠਿਤ ਰੱਖੋ।',\n",
       " '8 | 0:00:14 --> 0:00:17': 'ਅੱਖਾਂ ਦੇ ਸਾਮ੍ਹਣੇ ਵੱਧ ਵਿਕਣ ਵਾਲੇ ਮਾਲ ਨੂੰ ਸਜਾਓ।'}"
      ]
     },
     "execution_count": 15,
     "metadata": {},
     "output_type": "execute_result"
    }
   ],
   "source": [
    "import re\n",
    "def parse_text(text):\n",
    "    time_text_dict = {}\n",
    "    time_key = None  # Initialize time_key to None\n",
    "    \n",
    "    lines = text.strip().split('\\n')\n",
    "    \n",
    "    for line in lines:\n",
    "        # Check for time stamp\n",
    "        match = re.search(r'(\\d+:\\d+:\\d+) --> (\\d+:\\d+:\\d+)', line)\n",
    "        if match:\n",
    "            start_time, end_time = match.groups()\n",
    "            time_key = f\"{start_time} --> {end_time}\"\n",
    "        elif time_key:  # Only proceed if time_key is not None\n",
    "            time_text_dict[time_key] = line.strip()\n",
    "            time_key = None  # Reset time_key for the next iteration\n",
    "    \n",
    "    return time_text_dict\n",
    "\n",
    "parse_text_with_numbers(text)"
   ]
  },
  {
   "cell_type": "code",
   "execution_count": 9,
   "metadata": {},
   "outputs": [],
   "source": [
    "# from IPython.display import Audio\n",
    "# Audio(wav[\"x\"], rate=wav[\"sampling_rate\"])"
   ]
  },
  {
   "cell_type": "code",
   "execution_count": null,
   "metadata": {},
   "outputs": [],
   "source": []
  },
  {
   "cell_type": "code",
   "execution_count": 6,
   "metadata": {},
   "outputs": [
    {
     "ename": "AttributeError",
     "evalue": "module 'PIL.Image' has no attribute 'ANTIALIAS'",
     "output_type": "error",
     "traceback": [
      "\u001b[0;31m---------------------------------------------------------------------------\u001b[0m",
      "\u001b[0;31mAttributeError\u001b[0m                            Traceback (most recent call last)",
      "\u001b[1;32m/home/saket/Documents/python/i3access/video_editing/main.ipynb Cell 2\u001b[0m line \u001b[0;36m1\n\u001b[1;32m     <a href='vscode-notebook-cell:/home/saket/Documents/python/i3access/video_editing/main.ipynb#W0sZmlsZQ%3D%3D?line=12'>13</a>\u001b[0m     video_with_logo\u001b[39m.\u001b[39mwrite_videofile(output_path, audio_codec\u001b[39m=\u001b[39m\u001b[39m'\u001b[39m\u001b[39maac\u001b[39m\u001b[39m'\u001b[39m)\n\u001b[1;32m     <a href='vscode-notebook-cell:/home/saket/Documents/python/i3access/video_editing/main.ipynb#W0sZmlsZQ%3D%3D?line=14'>15</a>\u001b[0m \u001b[39m# Usage\u001b[39;00m\n\u001b[0;32m---> <a href='vscode-notebook-cell:/home/saket/Documents/python/i3access/video_editing/main.ipynb#W0sZmlsZQ%3D%3D?line=15'>16</a>\u001b[0m add_logo_moviepy(\u001b[39m'\u001b[39;49m\u001b[39mpunjabi.mp4\u001b[39;49m\u001b[39m'\u001b[39;49m, \u001b[39m'\u001b[39;49m\u001b[39mfile.jpeg\u001b[39;49m\u001b[39m'\u001b[39;49m, \u001b[39m'\u001b[39;49m\u001b[39mpunjabi_logo.mp4\u001b[39;49m\u001b[39m'\u001b[39;49m)\n",
      "\u001b[1;32m/home/saket/Documents/python/i3access/video_editing/main.ipynb Cell 2\u001b[0m line \u001b[0;36m6\n\u001b[1;32m      <a href='vscode-notebook-cell:/home/saket/Documents/python/i3access/video_editing/main.ipynb#W0sZmlsZQ%3D%3D?line=2'>3</a>\u001b[0m \u001b[39mdef\u001b[39;00m \u001b[39madd_logo_moviepy\u001b[39m(video_path, logo_path, output_path):\n\u001b[1;32m      <a href='vscode-notebook-cell:/home/saket/Documents/python/i3access/video_editing/main.ipynb#W0sZmlsZQ%3D%3D?line=3'>4</a>\u001b[0m     video \u001b[39m=\u001b[39m VideoFileClip(video_path)\n\u001b[0;32m----> <a href='vscode-notebook-cell:/home/saket/Documents/python/i3access/video_editing/main.ipynb#W0sZmlsZQ%3D%3D?line=5'>6</a>\u001b[0m     logo \u001b[39m=\u001b[39m ImageClip(logo_path)\u001b[39m.\u001b[39;49mresize(height\u001b[39m=\u001b[39;49m\u001b[39m60\u001b[39;49m)\n\u001b[1;32m      <a href='vscode-notebook-cell:/home/saket/Documents/python/i3access/video_editing/main.ipynb#W0sZmlsZQ%3D%3D?line=7'>8</a>\u001b[0m     logo_position \u001b[39m=\u001b[39m (video\u001b[39m.\u001b[39msize[\u001b[39m0\u001b[39m] \u001b[39m-\u001b[39m logo\u001b[39m.\u001b[39msize[\u001b[39m0\u001b[39m], \u001b[39m0\u001b[39m)\n\u001b[1;32m      <a href='vscode-notebook-cell:/home/saket/Documents/python/i3access/video_editing/main.ipynb#W0sZmlsZQ%3D%3D?line=8'>9</a>\u001b[0m     logo \u001b[39m=\u001b[39m logo\u001b[39m.\u001b[39mset_position(logo_position)\u001b[39m.\u001b[39mset_duration(video\u001b[39m.\u001b[39mduration)\n",
      "File \u001b[0;32m~/.local/lib/python3.11/site-packages/moviepy/video/fx/resize.py:152\u001b[0m, in \u001b[0;36mresize\u001b[0;34m(clip, newsize, height, width, apply_to_mask)\u001b[0m\n\u001b[1;32m    149\u001b[0m \u001b[39melse\u001b[39;00m:\n\u001b[1;32m    150\u001b[0m     fl \u001b[39m=\u001b[39m \u001b[39mlambda\u001b[39;00m pic: resizer(pic\u001b[39m.\u001b[39mastype(\u001b[39m'\u001b[39m\u001b[39muint8\u001b[39m\u001b[39m'\u001b[39m), newsize)\n\u001b[0;32m--> 152\u001b[0m newclip \u001b[39m=\u001b[39m clip\u001b[39m.\u001b[39;49mfl_image(fl)\n\u001b[1;32m    154\u001b[0m \u001b[39mif\u001b[39;00m apply_to_mask \u001b[39mand\u001b[39;00m clip\u001b[39m.\u001b[39mmask \u001b[39mis\u001b[39;00m \u001b[39mnot\u001b[39;00m \u001b[39mNone\u001b[39;00m:\n\u001b[1;32m    155\u001b[0m     newclip\u001b[39m.\u001b[39mmask \u001b[39m=\u001b[39m resize(clip\u001b[39m.\u001b[39mmask, newsize, apply_to_mask\u001b[39m=\u001b[39m\u001b[39mFalse\u001b[39;00m)\n",
      "File \u001b[0;32m/usr/lib/python3/dist-packages/decorator.py:232\u001b[0m, in \u001b[0;36mdecorate.<locals>.fun\u001b[0;34m(*args, **kw)\u001b[0m\n\u001b[1;32m    230\u001b[0m \u001b[39mif\u001b[39;00m \u001b[39mnot\u001b[39;00m kwsyntax:\n\u001b[1;32m    231\u001b[0m     args, kw \u001b[39m=\u001b[39m fix(args, kw, sig)\n\u001b[0;32m--> 232\u001b[0m \u001b[39mreturn\u001b[39;00m caller(func, \u001b[39m*\u001b[39;49m(extras \u001b[39m+\u001b[39;49m args), \u001b[39m*\u001b[39;49m\u001b[39m*\u001b[39;49mkw)\n",
      "File \u001b[0;32m~/.local/lib/python3.11/site-packages/moviepy/decorators.py:14\u001b[0m, in \u001b[0;36moutplace\u001b[0;34m(f, clip, *a, **k)\u001b[0m\n\u001b[1;32m     12\u001b[0m \u001b[39m\u001b[39m\u001b[39m\"\"\" Applies f(clip.copy(), *a, **k) and returns clip.copy()\"\"\"\u001b[39;00m\n\u001b[1;32m     13\u001b[0m newclip \u001b[39m=\u001b[39m clip\u001b[39m.\u001b[39mcopy()\n\u001b[0;32m---> 14\u001b[0m f(newclip, \u001b[39m*\u001b[39;49ma, \u001b[39m*\u001b[39;49m\u001b[39m*\u001b[39;49mk)\n\u001b[1;32m     15\u001b[0m \u001b[39mreturn\u001b[39;00m newclip\n",
      "File \u001b[0;32m~/.local/lib/python3.11/site-packages/moviepy/video/VideoClip.py:936\u001b[0m, in \u001b[0;36mImageClip.fl_image\u001b[0;34m(self, image_func, apply_to)\u001b[0m\n\u001b[1;32m    934\u001b[0m \u001b[39mif\u001b[39;00m apply_to \u001b[39mis\u001b[39;00m \u001b[39mNone\u001b[39;00m:\n\u001b[1;32m    935\u001b[0m         apply_to \u001b[39m=\u001b[39m []\n\u001b[0;32m--> 936\u001b[0m arr \u001b[39m=\u001b[39m image_func(\u001b[39mself\u001b[39;49m\u001b[39m.\u001b[39;49mget_frame(\u001b[39m0\u001b[39;49m))\n\u001b[1;32m    937\u001b[0m \u001b[39mself\u001b[39m\u001b[39m.\u001b[39msize \u001b[39m=\u001b[39m arr\u001b[39m.\u001b[39mshape[:\u001b[39m2\u001b[39m][::\u001b[39m-\u001b[39m\u001b[39m1\u001b[39m]\n\u001b[1;32m    938\u001b[0m \u001b[39mself\u001b[39m\u001b[39m.\u001b[39mmake_frame \u001b[39m=\u001b[39m \u001b[39mlambda\u001b[39;00m t: arr\n",
      "File \u001b[0;32m~/.local/lib/python3.11/site-packages/moviepy/video/fx/resize.py:150\u001b[0m, in \u001b[0;36mresize.<locals>.<lambda>\u001b[0;34m(pic)\u001b[0m\n\u001b[1;32m    147\u001b[0m     fl \u001b[39m=\u001b[39m \u001b[39mlambda\u001b[39;00m pic: \u001b[39m1.0\u001b[39m\u001b[39m*\u001b[39mresizer((\u001b[39m255\u001b[39m \u001b[39m*\u001b[39m pic)\u001b[39m.\u001b[39mastype(\u001b[39m'\u001b[39m\u001b[39muint8\u001b[39m\u001b[39m'\u001b[39m), newsize)\u001b[39m/\u001b[39m\u001b[39m255.0\u001b[39m\n\u001b[1;32m    149\u001b[0m \u001b[39melse\u001b[39;00m:\n\u001b[0;32m--> 150\u001b[0m     fl \u001b[39m=\u001b[39m \u001b[39mlambda\u001b[39;00m pic: resizer(pic\u001b[39m.\u001b[39;49mastype(\u001b[39m'\u001b[39;49m\u001b[39muint8\u001b[39;49m\u001b[39m'\u001b[39;49m), newsize)\n\u001b[1;32m    152\u001b[0m newclip \u001b[39m=\u001b[39m clip\u001b[39m.\u001b[39mfl_image(fl)\n\u001b[1;32m    154\u001b[0m \u001b[39mif\u001b[39;00m apply_to_mask \u001b[39mand\u001b[39;00m clip\u001b[39m.\u001b[39mmask \u001b[39mis\u001b[39;00m \u001b[39mnot\u001b[39;00m \u001b[39mNone\u001b[39;00m:\n",
      "File \u001b[0;32m~/.local/lib/python3.11/site-packages/moviepy/video/fx/resize.py:37\u001b[0m, in \u001b[0;36mresizer\u001b[0;34m(pic, newsize)\u001b[0m\n\u001b[1;32m     34\u001b[0m     newshape \u001b[39m=\u001b[39m (newsize[\u001b[39m0\u001b[39m],newsize[\u001b[39m1\u001b[39m])\n\u001b[1;32m     36\u001b[0m pilim \u001b[39m=\u001b[39m Image\u001b[39m.\u001b[39mfromarray(pic)\n\u001b[0;32m---> 37\u001b[0m resized_pil \u001b[39m=\u001b[39m pilim\u001b[39m.\u001b[39mresize(newsize[::\u001b[39m-\u001b[39m\u001b[39m1\u001b[39m], Image\u001b[39m.\u001b[39;49mANTIALIAS)\n\u001b[1;32m     38\u001b[0m \u001b[39m#arr = np.fromstring(resized_pil.tostring(), dtype='uint8')\u001b[39;00m\n\u001b[1;32m     39\u001b[0m \u001b[39m#arr.reshape(newshape)\u001b[39;00m\n\u001b[1;32m     40\u001b[0m \u001b[39mreturn\u001b[39;00m np\u001b[39m.\u001b[39marray(resized_pil)\n",
      "\u001b[0;31mAttributeError\u001b[0m: module 'PIL.Image' has no attribute 'ANTIALIAS'"
     ]
    }
   ],
   "source": [
    "from moviepy.editor import VideoFileClip, ImageClip\n",
    "\n",
    "def add_logo_moviepy(video_path, logo_path, output_path):\n",
    "    video = VideoFileClip(video_path)\n",
    "    \n",
    "    logo = ImageClip(logo_path).resize(height=60)\n",
    "    \n",
    "    logo_position = (video.size[0] - logo.size[0], 0)\n",
    "    logo = logo.set_position(logo_position).set_duration(video.duration)\n",
    "    \n",
    "    video_with_logo = video.fx(vfx.overlay, logo)\n",
    "    \n",
    "    video_with_logo.write_videofile(output_path, audio_codec='aac')\n",
    "\n",
    "# Usage\n",
    "add_logo_moviepy('punjabi.mp4', 'file.jpeg', 'punjabi_logo.mp4')\n"
   ]
  },
  {
   "cell_type": "code",
   "execution_count": null,
   "metadata": {},
   "outputs": [],
   "source": [
    "test = \" The sale of the shop has been cut off, new customers are not coming, so now the worry is over, because Budimani is present. Listen to the five mantras of Bhopar Vidya. Sukhi, keep your shop clean and organized. Friends, the goods that are sold in front of your eyes, do it with digital tools. Pay and order for home delivery. The customer who wants, present other products of that kind. Ask them like a conditioner with shampoo, what they want to upgrade their purchasing power. It will give you a better deal and promise in your sale. Recognize your customers. Make a better relationship with them. Increase the quality of goods in the shop. So that the customers do not come empty-handed. Take these five mantras together and make your shop shine. Smile a little. The development program supports thousands of companies in the country. So that they can help their business make more profit.\"\n"
   ]
  },
  {
   "cell_type": "code",
   "execution_count": 19,
   "metadata": {},
   "outputs": [
    {
     "name": "stderr",
     "output_type": "stream",
     "text": [
      "ffmpeg version 6.0-5 Copyright (c) 2000-2023 the FFmpeg developers\n",
      "  built with gcc 13 (Debian 13.2.0-1)\n",
      "  configuration: --prefix=/usr --extra-version=5 --toolchain=hardened --libdir=/usr/lib/x86_64-linux-gnu --incdir=/usr/include/x86_64-linux-gnu --arch=amd64 --enable-gpl --disable-stripping --enable-gnutls --enable-ladspa --enable-libaom --enable-libass --enable-libbluray --enable-libbs2b --enable-libcaca --enable-libcdio --enable-libcodec2 --enable-libdav1d --enable-libflite --enable-libfontconfig --enable-libfreetype --enable-libfribidi --enable-libglslang --enable-libgme --enable-libgsm --enable-libjack --enable-libmp3lame --enable-libmysofa --enable-libopenjpeg --enable-libopenmpt --enable-libopus --enable-libpulse --enable-librabbitmq --enable-librist --enable-librubberband --enable-libshine --enable-libsnappy --enable-libsoxr --enable-libspeex --enable-libsrt --enable-libssh --enable-libsvtav1 --enable-libtheora --enable-libtwolame --enable-libvidstab --enable-libvorbis --enable-libvpx --enable-libwebp --enable-libx265 --enable-libxml2 --enable-libxvid --enable-libzimg --enable-libzmq --enable-libzvbi --enable-lv2 --enable-omx --enable-openal --enable-opencl --enable-opengl --enable-sdl2 --disable-sndio --enable-libjxl --enable-pocketsphinx --enable-librsvg --enable-libvpl --disable-libmfx --enable-libdc1394 --enable-libdrm --enable-libiec61883 --enable-chromaprint --enable-frei0r --enable-libx264 --enable-libplacebo --enable-librav1e --enable-shared\n",
      "  libavutil      58.  2.100 / 58.  2.100\n",
      "  libavcodec     60.  3.100 / 60.  3.100\n",
      "  libavformat    60.  3.100 / 60.  3.100\n",
      "  libavdevice    60.  1.100 / 60.  1.100\n",
      "  libavfilter     9.  3.100 /  9.  3.100\n",
      "  libswscale      7.  1.100 /  7.  1.100\n",
      "  libswresample   4. 10.100 /  4. 10.100\n",
      "  libpostproc    57.  1.100 / 57.  1.100\n",
      "Input #0, mov,mp4,m4a,3gp,3g2,mj2, from 'punjabi.mp4':\n",
      "  Metadata:\n",
      "    major_brand     : isom\n",
      "    minor_version   : 512\n",
      "    compatible_brands: isomiso2avc1mp41\n",
      "    encoder         : Lavf58.29.100\n",
      "  Duration: 00:01:14.35, start: 0.000000, bitrate: 383 kb/s\n",
      "  Stream #0:0[0x1](und): Video: h264 (High) (avc1 / 0x31637661), yuv420p(progressive), 640x360, 325 kb/s, 25 fps, 25 tbr, 12800 tbn (default)\n",
      "    Metadata:\n",
      "      handler_name    : VideoHandler\n",
      "      vendor_id       : [0][0][0][0]\n",
      "  Stream #0:1[0x2](und): Audio: aac (LC) (mp4a / 0x6134706D), 44100 Hz, stereo, fltp, 119 kb/s (default)\n",
      "    Metadata:\n",
      "      handler_name    : SoundHandler\n",
      "      vendor_id       : [0][0][0][0]\n",
      "Input #1, image2, from 'file.jpeg':\n",
      "  Duration: 00:00:00.04, start: 0.000000, bitrate: 735 kb/s\n",
      "  Stream #1:0: Video: mjpeg (Baseline), yuvj420p(pc, bt470bg/unknown/unknown), 96x96 [SAR 120:120 DAR 1:1], 25 fps, 25 tbr, 25 tbn\n",
      "Stream mapping:\n",
      "  Stream #0:0 (h264) -> overlay\n",
      "  Stream #1:0 (mjpeg) -> scale:default\n",
      "  overlay:default -> Stream #0:0 (libx264)\n",
      "  Stream #0:1 -> #0:1 (copy)\n",
      "Press [q] to stop, [?] for help\n",
      "[swscaler @ 0x557448dbdb80] deprecated pixel format used, make sure you did set range correctly\n",
      "[swscaler @ 0x557448e10040] deprecated pixel format used, make sure you did set range correctly\n",
      "    Last message repeated 2 times\n",
      "[libx264 @ 0x557448515740] using cpu capabilities: MMX2 SSE2Fast SSSE3 SSE4.2 AVX FMA3 BMI2 AVX2 AVX512\n",
      "[libx264 @ 0x557448515740] profile High, level 3.0, 4:2:0, 8-bit\n",
      "[libx264 @ 0x557448515740] 264 - core 164 r3095 baee400 - H.264/MPEG-4 AVC codec - Copyleft 2003-2022 - http://www.videolan.org/x264.html - options: cabac=1 ref=3 deblock=1:0:0 analyse=0x3:0x113 me=hex subme=7 psy=1 psy_rd=1.00:0.00 mixed_ref=1 me_range=16 chroma_me=1 trellis=1 8x8dct=1 cqm=0 deadzone=21,11 fast_pskip=1 chroma_qp_offset=-2 threads=11 lookahead_threads=1 sliced_threads=0 nr=0 decimate=1 interlaced=0 bluray_compat=0 constrained_intra=0 bframes=3 b_pyramid=2 b_adapt=1 b_bias=0 direct=1 weightb=1 open_gop=0 weightp=2 keyint=250 keyint_min=25 scenecut=40 intra_refresh=0 rc_lookahead=40 rc=crf mbtree=1 crf=23.0 qcomp=0.60 qpmin=0 qpmax=69 qpstep=4 ip_ratio=1.40 aq=1:1.00\n",
      "Output #0, mp4, to 'logofile.mp4':\n",
      "  Metadata:\n",
      "    major_brand     : isom\n",
      "    minor_version   : 512\n",
      "    compatible_brands: isomiso2avc1mp41\n",
      "    encoder         : Lavf60.3.100\n",
      "  Stream #0:0: Video: h264 (avc1 / 0x31637661), yuv420p(progressive), 640x360, q=2-31, 25 fps, 12800 tbn\n",
      "    Metadata:\n",
      "      encoder         : Lavc60.3.100 libx264\n",
      "    Side data:\n",
      "      cpb: bitrate max/min/avg: 0/0/0 buffer size: 0 vbv_delay: N/A\n",
      "  Stream #0:1(und): Audio: aac (LC) (mp4a / 0x6134706D), 44100 Hz, stereo, fltp, 119 kb/s (default)\n",
      "    Metadata:\n",
      "      handler_name    : SoundHandler\n",
      "      vendor_id       : [0][0][0][0]\n",
      "frame= 1476 fps=689 q=-1.0 Lsize=    3361kB time=00:01:14.32 bitrate= 370.4kbits/s speed=34.7x    \n",
      "video:2223kB audio:1087kB subtitle:0kB other streams:0kB global headers:0kB muxing overhead: 1.541502%\n",
      "[libx264 @ 0x557448515740] frame I:14    Avg QP:18.20  size: 30618\n",
      "[libx264 @ 0x557448515740] frame P:437   Avg QP:21.56  size:  3140\n",
      "[libx264 @ 0x557448515740] frame B:1025  Avg QP:23.18  size:   463\n",
      "[libx264 @ 0x557448515740] consecutive B-frames:  4.3%  7.7%  4.5% 83.5%\n",
      "[libx264 @ 0x557448515740] mb I  I16..4: 16.1% 23.5% 60.4%\n",
      "[libx264 @ 0x557448515740] mb P  I16..4:  0.9%  2.3%  2.0%  P16..4: 14.6%  6.3%  5.0%  0.0%  0.0%    skip:68.9%\n",
      "[libx264 @ 0x557448515740] mb B  I16..4:  0.1%  0.1%  0.1%  B16..8: 13.7%  1.9%  0.7%  direct: 0.4%  skip:83.1%  L0:43.3% L1:50.4% BI: 6.2%\n",
      "[libx264 @ 0x557448515740] 8x8 transform intra:36.1% inter:52.5%\n",
      "[libx264 @ 0x557448515740] coded y,uvDC,uvAC intra: 63.6% 64.7% 46.6% inter: 3.4% 4.2% 1.4%\n",
      "[libx264 @ 0x557448515740] i16 v,h,dc,p: 33% 42% 14% 11%\n",
      "[libx264 @ 0x557448515740] i8 v,h,dc,ddl,ddr,vr,hd,vl,hu: 30% 24% 19%  3%  4%  5%  5%  5%  5%\n",
      "[libx264 @ 0x557448515740] i4 v,h,dc,ddl,ddr,vr,hd,vl,hu: 25% 31% 10%  4%  6%  6%  7%  5%  6%\n",
      "[libx264 @ 0x557448515740] i8c dc,h,v,p: 44% 29% 21%  7%\n",
      "[libx264 @ 0x557448515740] Weighted P-Frames: Y:0.9% UV:0.9%\n",
      "[libx264 @ 0x557448515740] ref P L0: 70.7% 12.3% 12.3%  4.6%  0.0%\n",
      "[libx264 @ 0x557448515740] ref B L0: 88.4%  9.5%  2.1%\n",
      "[libx264 @ 0x557448515740] ref B L1: 96.3%  3.7%\n",
      "[libx264 @ 0x557448515740] kb/s:308.39\n"
     ]
    }
   ],
   "source": [
    "# import subprocess\n",
    "\n",
    "# def add_logo_ffmpeg(video_path, logo_path, output_path):\n",
    "#     command = [\n",
    "#         'ffmpeg',\n",
    "#         '-i', video_path,\n",
    "#         '-i', logo_path,\n",
    "#         '-filter_complex', 'overlay=W-w-7:7',\n",
    "#         '-c:a', 'copy',\n",
    "#         output_path\n",
    "#     ]\n",
    "#     subprocess.run(command)\n",
    "\n",
    "# # Usage\n",
    "\n",
    "\n",
    "import subprocess\n",
    "\n",
    "def add_resized_logo_ffmpeg(video_path, logo_path, output_path, logo_size=(70, 30), position=(20, 20)):\n",
    "    logo_width, logo_height = logo_size\n",
    "    position_x, position_y = position\n",
    "\n",
    "    command = [\n",
    "        'ffmpeg',\n",
    "        '-i', video_path,\n",
    "        '-i', logo_path,\n",
    "        '-filter_complex', f'[1:v]scale={logo_width}:{logo_height}[logo];[0:v][logo]overlay=W-w-{position_x}:{position_y}',\n",
    "        '-c:a', 'copy',\n",
    "        output_path\n",
    "    ]\n",
    "    subprocess.run(command)\n",
    "\n",
    "add_resized_logo_ffmpeg('punjabi.mp4', 'file.jpeg', 'logofile.mp4')\n"
   ]
  }
 ],
 "metadata": {
  "kernelspec": {
   "display_name": "Python 3",
   "language": "python",
   "name": "python3"
  },
  "language_info": {
   "codemirror_mode": {
    "name": "ipython",
    "version": 3
   },
   "file_extension": ".py",
   "mimetype": "text/x-python",
   "name": "python",
   "nbconvert_exporter": "python",
   "pygments_lexer": "ipython3",
   "version": "3.11.4"
  },
  "orig_nbformat": 4
 },
 "nbformat": 4,
 "nbformat_minor": 2
}
